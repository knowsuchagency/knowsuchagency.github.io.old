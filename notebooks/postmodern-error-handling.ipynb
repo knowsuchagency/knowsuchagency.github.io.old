{
 "cells": [
  {
   "cell_type": "markdown",
   "metadata": {
    "ExecuteTime": {
     "end_time": "2017-02-24T19:33:23.427589",
     "start_time": "2017-02-24T19:33:23.424076"
    }
   },
   "source": [
    "## Postmodern error handling in Python 3.6"
   ]
  },
  {
   "cell_type": "markdown",
   "metadata": {},
   "source": [
    "I'll be the first person to admit I have no idea what postmodernism actually means, but it sounds cool for an article on error-handling, and I would argue that the facilities (post?)modern Python provides for handling errors is pretty damn cool.\n",
    "\n",
    "Recently, an acquaintance of mine posed this question on a message board we both participate in:\n",
    "\n",
    "> okay nerds\n",
    "what do you call a union-type with three states?\n",
    "\n",
    "> so I was writing a Maybe implementation (in python) to deal with a processing pipeline, but then it turned into an Either, and then it turned into something with three states\n",
    "\n",
    "> basically there's either 1) the final value, 2) no value but a known error occurred, 3) no value but an unknown error occurred\n",
    "\n",
    "> the final states could be: 1) hey it succeeded, here's the object's id 2) no value but your json blob was missing a required attribute (or some other known error), or 3) we encountered an error that the programmer didn't forsee\n",
    "\n",
    "To which another strapping young gentleman replied:\n",
    "\n",
    ">  if it were Rust you could enum your errors ಠ‿ಠ\n",
    "\n",
    "Well, truth be told, I feel like I probably know about as little about [**fp**](https://www.smashingmagazine.com/2014/07/dont-be-scared-of-functional-programming/) as I do about postmodernism, but I thought this was an interesting question and I do at least know that Python's standard library does provide us Enums ┬─┬﻿ ノ( ゜-゜ノ) so I figured I would take a crack at it.\n",
    "\n",
    "---"
   ]
  },
  {
   "cell_type": "markdown",
   "metadata": {},
   "source": [
    "To start, let's quickly talk about what an Enum (enumeration) is for those of us who have yet to encounter them.\n",
    "\n",
    "At a very basic level, I would define an Enum as a particular set of choices (or states).\n",
    "\n",
    "Let's say, for example, that you [lost a bet](https://www.youtube.com/watch?v=zBYz_RInbrQ), and now have a set of options to choose from as punishment.\n",
    "\n",
    "Those options are\n",
    "\n",
    "* **A**: Get slapped 10 times right now\n",
    "* **B**: Get slapped 5 times at any random time from now to eternity\n",
    "\n",
    "Those are the only 2 possibilities, you don't get any other choices. We could model this idea using an Enum."
   ]
  },
  {
   "cell_type": "code",
   "execution_count": 1,
   "metadata": {
    "ExecuteTime": {
     "end_time": "2017-02-24T21:51:47.077103",
     "start_time": "2017-02-24T21:51:46.987779"
    },
    "collapsed": false
   },
   "outputs": [
    {
     "data": {
      "text/plain": [
       "<SlapBet.TEN_SLAPS: 1>"
      ]
     },
     "execution_count": 1,
     "metadata": {},
     "output_type": "execute_result"
    },
    {
     "data": {
      "text/plain": [
       "True"
      ]
     },
     "execution_count": 1,
     "metadata": {},
     "output_type": "execute_result"
    },
    {
     "data": {
      "text/plain": [
       "False"
      ]
     },
     "execution_count": 1,
     "metadata": {},
     "output_type": "execute_result"
    }
   ],
   "source": [
    "from enum import Enum\n",
    "\n",
    "class SlapBet(Enum):\n",
    "    TEN_SLAPS = 1 # get slapped ten times right now\n",
    "    FIVE_SLAPS = 2 # fear slaps possibly for eternity\n",
    "    \n",
    "smart_choice = SlapBet.TEN_SLAPS\n",
    "\n",
    "stupid_choice = SlapBet.FIVE_SLAPS\n",
    "\n",
    "smart_choice # notice the pretty repr\n",
    "\n",
    "smart_choice == SlapBet.TEN_SLAPS\n",
    "\n",
    "smart_choice == stupid_choice"
   ]
  },
  {
   "cell_type": "markdown",
   "metadata": {},
   "source": [
    "So, why would we do this? Why go through the trouble of using an Enum when we could functionally do the same thing with something like integers? Well, the first reason, and the most important one, in my opinion, is readability. \n",
    "\n",
    "The second reason is that Enum instances can hold values we may want to use. \n",
    "\n",
    "Let's say you have a function that has an optional parameter."
   ]
  },
  {
   "cell_type": "code",
   "execution_count": 2,
   "metadata": {
    "ExecuteTime": {
     "end_time": "2017-02-24T21:51:47.091917",
     "start_time": "2017-02-24T21:51:47.080044"
    },
    "collapsed": false
   },
   "outputs": [
    {
     "data": {
      "text/plain": [
       "'Ron is best friends with Harry'"
      ]
     },
     "execution_count": 2,
     "metadata": {},
     "output_type": "execute_result"
    }
   ],
   "source": [
    "def connection(person_1, person_2, relationship='knows'):\n",
    "    \"\"\"Return a string that represents the relationship between two people.\"\"\"\n",
    "    \n",
    "    # this sexy f\"\" string format is part of the new Python 3.6\n",
    "    # hotness. An article for another day.\n",
    "    \n",
    "    return f\"{person_1} {relationship} {person_2}\"\n",
    "\n",
    "connection(\"Ron\", \"Harry\", relationship=\"is best friends with\")"
   ]
  },
  {
   "cell_type": "markdown",
   "metadata": {},
   "source": [
    "Now let's say we want to restrain the possible relationships that people can have.\n",
    "\n",
    "Maybe we want to do this to prevent errors or to simply prevent weirdness like the following."
   ]
  },
  {
   "cell_type": "code",
   "execution_count": 3,
   "metadata": {
    "ExecuteTime": {
     "end_time": "2017-02-24T21:51:47.113637",
     "start_time": "2017-02-24T21:51:47.096924"
    },
    "collapsed": false
   },
   "outputs": [
    {
     "data": {
      "text/plain": [
       "'Ron is dating Hermoine but secretly wants Harry'"
      ]
     },
     "execution_count": 3,
     "metadata": {},
     "output_type": "execute_result"
    }
   ],
   "source": [
    "connection(\"Ron\", \"Harry\", relationship=\"is dating Hermoine but secretly wants\")"
   ]
  },
  {
   "cell_type": "markdown",
   "metadata": {},
   "source": [
    "### Enums to the rescue!"
   ]
  },
  {
   "cell_type": "code",
   "execution_count": 4,
   "metadata": {
    "ExecuteTime": {
     "end_time": "2017-02-24T21:51:47.167459",
     "start_time": "2017-02-24T21:51:47.117383"
    },
    "collapsed": false
   },
   "outputs": [
    {
     "data": {
      "text/plain": [
       "'Ron is best friends with Harry'"
      ]
     },
     "execution_count": 4,
     "metadata": {},
     "output_type": "execute_result"
    }
   ],
   "source": [
    "from enum import Enum\n",
    "\n",
    "class Relationship(Enum):\n",
    "    knows = 'knows'\n",
    "    likes = 'likes'\n",
    "    loves = 'loves'\n",
    "    detests = 'detests'\n",
    "    bff = \"is best friends with\"\n",
    "\n",
    "def connection(person_1, person_2, relationship=Relationship.likes):\n",
    "    \"\"\"Return a string that represents the relationship between two people.\"\"\"\n",
    "    \n",
    "    # notice we use the .value of the Relationship instance to get the string\n",
    "    \n",
    "    return f\"{person_1} {relationship.value} {person_2}\"\n",
    "\n",
    "connection(\"Ron\", \"Harry\", relationship=Relationship.bff)"
   ]
  },
  {
   "cell_type": "markdown",
   "metadata": {},
   "source": [
    "## Interlude\n",
    "\n",
    "Now, before tackle the original question that started us on this journey, let's quickly talk about another new and incredibly using and important feature since Python 3.5 that has been vastly improved in Python 3.6 - type annotations.\n",
    "\n",
    "In our previous example, there would be nothing to prevent someone from doing the following:"
   ]
  },
  {
   "cell_type": "code",
   "execution_count": 5,
   "metadata": {
    "ExecuteTime": {
     "end_time": "2017-02-24T21:51:47.185646",
     "start_time": "2017-02-24T21:51:47.171016"
    },
    "collapsed": false
   },
   "outputs": [
    {
     "data": {
      "text/plain": [
       "'Ron corrupts Harry'"
      ]
     },
     "execution_count": 5,
     "metadata": {},
     "output_type": "execute_result"
    }
   ],
   "source": [
    "evil = lambda: 'power'\n",
    "evil.value = 'corrupts'\n",
    "\n",
    "connection(\"Ron\", \"Harry\", relationship=evil)"
   ]
  },
  {
   "cell_type": "markdown",
   "metadata": {},
   "source": [
    "That's obviously not how we intended our function to be used, but part of what makes Python so powerful, its dynamic nature, is what allows such nefarious behavior. If only there were a way to save ourselves and people who use our code from making such mistakes...\n",
    "\n",
    "### Behold!"
   ]
  },
  {
   "cell_type": "code",
   "execution_count": 6,
   "metadata": {
    "ExecuteTime": {
     "end_time": "2017-02-24T21:51:47.311795",
     "start_time": "2017-02-24T21:51:47.188652"
    },
    "collapsed": false
   },
   "outputs": [
    {
     "data": {
      "text/plain": [
       "'Ron is best friends with Harry'"
      ]
     },
     "execution_count": 6,
     "metadata": {},
     "output_type": "execute_result"
    }
   ],
   "source": [
    "from enum import Enum\n",
    "\n",
    "class Relationship(Enum):\n",
    "    knows: str = 'knows'\n",
    "    likes: str = 'likes'\n",
    "    loves: str = 'loves'\n",
    "    detests: str = 'detests'\n",
    "    bff: str = \"is best friends with\"\n",
    "    \n",
    "def connection(person_1: str,\n",
    "               person_2: str,\n",
    "               relationship: Relationship=Relationship.knows) -> str:\n",
    "    \"\"\"Return a string that represents the relationship between two people.\"\"\"\n",
    "    \n",
    "    # notice we use the .value of the Relationship instance to get the string\n",
    "    \n",
    "    return f\"{person_1} {relationship.value} {person_2}\"\n",
    "\n",
    "connection(\"Ron\", \"Harry\", relationship=Relationship.bff)"
   ]
  },
  {
   "cell_type": "markdown",
   "metadata": {},
   "source": [
    "\"Huh?\", you say. \"It looks to me like things just got more verbosified. I like making up words.\" \n",
    "\n",
    "Cool word, and you would be right, things did get more wordy. Moreover, adding all those annotations won't prevent someone from doing what we mentioned before,\n",
    "\n",
    "```python\n",
    "evil = lambda: 'power'\n",
    "evil.value = 'corrupts'\n",
    "\n",
    "connection(\"Ron\", \"Harry\", relationship=evil) # this still works, though we don't want it to\n",
    "```\n",
    "\n",
    "... **unless**, that is, we run that code using - [**mypy**](http://mypy-lang.org/)\n",
    "\n",
    "\n",
    "Mypy allows you to add type annotations and enforce them prior to running your program, so the only way the above function would run is if the relationship parameter was of type Relationship when called. Amazing!\n",
    "\n",
    "Now, anyone reading our code would know exactly the types of things that could be passed as parameters to functions, and mypy will help us to enforce the type annotations we set. That makes our code much more legible and provides us and people using our code some nice sanity checks when using our code, knowing certain kinds of human error will be caught prior to our code being run.\n",
    "\n",
    "---"
   ]
  },
  {
   "cell_type": "markdown",
   "metadata": {},
   "source": [
    "## Now, back to our original question about modeling 3 possible conditions.\n",
    "\n",
    "1. Task ran without error. Data returned.\n",
    "2. A known error occurred during task execution. No data returned.\n",
    "3. A catastrophic runtime error occurred. No data returned\n",
    "\n",
    "So, before we look at the code, it's cool to note that as of Python 3.6 we now have typed NamedTuples that we can declare with the new type annotation syntax. We had this already in Python 3.5 but I think the new syntax is much cleaner.\n",
    "\n",
    "```python\n",
    "\n",
    "# old way\n",
    "Employee = NamedTuple('Employee', [('name', str), ('id', int)])\n",
    "\n",
    "# new sauce\n",
    "class Employee(NamedTuple):\n",
    "    name : str\n",
    "    id   : int\n",
    "```\n",
    "\n",
    "Also, an Optional describes something that can be of a certain type, or None.\n",
    "\n",
    "```python\n",
    "possible_integer: Optional[int] = None # we could make this an integer later on\n",
    "```\n",
    "\n",
    "You'll see the use of optional values a lot in functional programming. In fact, the following pattern of combining tuples and optional values is the primary way we handle errors in Go. Optionals are also ubiquitous in Swift, not only in the context of error-handling. \n",
    "\n",
    "Optionals are a really handy concept, and now Python has them as well as a lot of the other type safety goodness of other languages through mypy."
   ]
  },
  {
   "cell_type": "code",
   "execution_count": 9,
   "metadata": {
    "ExecuteTime": {
     "end_time": "2017-02-24T22:23:39.947621",
     "start_time": "2017-02-24T22:23:39.880545"
    },
    "collapsed": false,
    "scrolled": true
   },
   "outputs": [],
   "source": [
    "from typing import NamedTuple, Optional\n",
    "import requests\n",
    "import logging\n",
    "import json\n",
    "import enum\n",
    "\n",
    "\n",
    "class ApiInteraction(enum.Enum):\n",
    "    \"\"\"The 3 possible states we can expect when interacting with the API.\"\"\"\n",
    "    SUCCESS = 1\n",
    "    ERROR = 2\n",
    "    FAILURE = 3\n",
    "\n",
    "\n",
    "class ApiResponse(NamedTuple):\n",
    "    \"\"\"\n",
    "    This is sort of a really dumbed-down version of an HTTP response,\n",
    "    if you think of it in terms of status codes and response bodies.\n",
    "    \"\"\"\n",
    "    status: ApiInteraction\n",
    "    payload: Optional[dict]\n",
    "\n",
    "\n",
    "        \n",
    "def hit_endpoint(url: str) -> ApiResponse:\n",
    "    \"\"\"\n",
    "    1. Send an http request to a url\n",
    "    2. Parse the json response as a dictionary\n",
    "    3. Return an ApiResponse object\n",
    "    \"\"\"\n",
    "    \n",
    "    \n",
    "    try:\n",
    "        \n",
    "        response = requests.get(url) # step 1\n",
    "        payload = response.json() # step 2\n",
    "        \n",
    "    except json.decoder.JSONDecodeError as e:\n",
    "        \n",
    "        # something went wrong in step 2; we knew this might happen\n",
    "        \n",
    "        # log a simple error message\n",
    "        \n",
    "        logging.error(f'could not decode json from {url}')\n",
    "        \n",
    "        # log the full traceback at a lower level\n",
    "        \n",
    "        logging.info(e, exc_info=True)\n",
    "        \n",
    "        # since we anticipated this error, make the\n",
    "        # ApiResponse.status an ERROR as opposed to a failure\n",
    "        \n",
    "        return ApiResponse(ApiInteraction.ERROR, None)\n",
    "    \n",
    "    except Exception as e:\n",
    "        \n",
    "        # something went wrong in step 1 or 2 that\n",
    "        # we couldn't anticipate\n",
    "        \n",
    "        # log the exception with the traceback\n",
    "        \n",
    "        logging.error(f\"Something bad happened trying to reach {url}\")\n",
    "        logging.info(e, exc_info=True)\n",
    "        \n",
    "        # Since something catastrophic happened that\n",
    "        # we didn't anticipate i.e. (DivideByBananaError)\n",
    "        # we set the ApiResponse.status to FAILURE\n",
    "        \n",
    "        return ApiResponse(ApiInteraction.FAILURE, None)\n",
    "    \n",
    "    else:\n",
    "        \n",
    "        # Everything worked as planned! No errors!\n",
    "        \n",
    "        return ApiResponse(ApiInteraction.SUCCESS, payload)\n",
    "\n",
    "\n",
    "# Python is awesome. We can either use the function by itself\n",
    "# or use it as a constructor for our ApiResponse class \n",
    "# by doing thefollowing:\n",
    "\n",
    "\n",
    "ApiResponse.from_url = hit_endpoint"
   ]
  },
  {
   "cell_type": "code",
   "execution_count": 10,
   "metadata": {
    "ExecuteTime": {
     "end_time": "2017-02-24T22:23:44.816174",
     "start_time": "2017-02-24T22:23:43.414215"
    },
    "collapsed": false
   },
   "outputs": [
    {
     "name": "stderr",
     "output_type": "stream",
     "text": [
      "ERROR:root:could not decode json from http://twitter.com\n",
      "ERROR:root:could not decode json from http://twitter.com\n",
      "ERROR:root:Something bad happened trying to reach foo\n",
      "ERROR:root:Something bad happened trying to reach foo\n"
     ]
    }
   ],
   "source": [
    "def test_endpoint_response():\n",
    "\n",
    "    url = 'http://httpbin.org/headers'\n",
    "    response = ApiResponse.from_url(url)\n",
    "    assert response.status == ApiInteraction.SUCCESS\n",
    "    assert response.status == hit_endpoint(url).status # our function and constructor work the same!\n",
    "    assert response.payload is not None\n",
    "\n",
    "\n",
    "    url = 'http://twitter.com'\n",
    "    response = ApiResponse.from_url(url)\n",
    "    assert response.status == ApiInteraction.ERROR\n",
    "    assert response.status == hit_endpoint(url).status\n",
    "    assert response.payload is None\n",
    "\n",
    "\n",
    "    url = 'foo'\n",
    "    response = ApiResponse.from_url(url)\n",
    "    assert response.status == ApiInteraction.FAILURE\n",
    "    assert response.status == hit_endpoint(url).status\n",
    "    assert response.payload is None\n",
    "        \n",
    "    \n",
    "test_endpoint_response()"
   ]
  },
  {
   "cell_type": "markdown",
   "metadata": {},
   "source": [
    "## In collusion"
   ]
  },
  {
   "cell_type": "markdown",
   "metadata": {},
   "source": [
    "I'm really excited about the way Python is evolving as a language, ecosystem, and community. I think that recent developments in type annotation add a lot to the expressiveness to the language and provide us with some really useful guarantees when leveraged using mypy.\n",
    "\n",
    "Using **Enums** and **NamedTuples** this way not only provides us with some welcome sanity checks, I think it makes the code much more readable and **testable**. I also really like the idea of having relatively simple data structures that define a finite set of possible states that we can create arbitrary constructors for outside of their class definitions, similar to other languages like Go. This isn't something new to Python, but recent developments in Python's syntax and its ecosystem make patterns like these much more useful and intuitive, in my opinion.\n",
    "\n",
    "Guido Van Rossum himself has said innovations in Python's type system is what has him most excited about the language moving forward, according to his [latest interview on TalkPython.fm](https://talkpython.fm/episodes/show/100/python-past-present-and-future-with-guido-van-rossum). The more I play around with these features and read about them, the more I see why."
   ]
  }
 ],
 "metadata": {
  "hide_input": false,
  "kernelspec": {
   "display_name": "Python 3",
   "language": "python",
   "name": "python3"
  },
  "language_info": {
   "codemirror_mode": {
    "name": "ipython",
    "version": 3
   },
   "file_extension": ".py",
   "mimetype": "text/x-python",
   "name": "python",
   "nbconvert_exporter": "python",
   "pygments_lexer": "ipython3",
   "version": "3.6.0"
  }
 },
 "nbformat": 4,
 "nbformat_minor": 2
}
