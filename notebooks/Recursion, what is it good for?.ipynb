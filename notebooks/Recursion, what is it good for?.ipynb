{
 "cells": [
  {
   "cell_type": "markdown",
   "metadata": {},
   "source": [
    "## In the beginning, there was the Imperative\n",
    "\n",
    "It all started when a friend of mine asked for help on their introductory computer science class. \n",
    "\n",
    "They had been assigned the task of writing a program that would ask a user to **input a number of seconds**, and then print how much time that was **in terms of weeks, days, hours, and seconds**.\n",
    "\n",
    "For example, \n",
    "\n",
    "```\n",
    "f(0) -> \"0 Seconds\"\n",
    "f(100) -> \"1 Minute 40 Seconds\"\n",
    "f(86400) -> \"1 Day\"\n",
    "f(172801) -> \"2 Days 1 Second\"\n",
    "```\n",
    "\n",
    "### Full Disclaimer\n",
    "\n",
    "> I had the full intention of writing only about recursion but ended up getting side-tracked with closures, generators, and a couple other things and was too lazy to change the title once I finished typing this out. So feel free to hate on me if you feel like you got baited and switched by having to read about those other topics at least as well as recursion in the next minute or two of your life."
   ]
  },
  {
   "cell_type": "markdown",
   "metadata": {},
   "source": [
    "My friend had to turn in the assignment that night, so I quickly banged out a naive solution with the promise that I'd go over it with them later."
   ]
  },
  {
   "cell_type": "code",
   "execution_count": 1,
   "metadata": {
    "ExecuteTime": {
     "end_time": "2017-09-23T01:43:17.193490Z",
     "start_time": "2017-09-23T01:43:17.119054Z"
    }
   },
   "outputs": [
    {
     "data": {
      "text/plain": [
       "'1.0 weeks 4.0 days 10.0 hours 26.0 minutes 27.0 seconds'"
      ]
     },
     "execution_count": 1,
     "metadata": {},
     "output_type": "execute_result"
    }
   ],
   "source": [
    "def seconds_to_string(seconds):\n",
    "    if seconds < 0:\n",
    "        raise ValueError(\"seconds must be greater than zero\")\n",
    "    elif seconds == 0:\n",
    "        return '0 seconds'\n",
    "    \n",
    "    string = ''\n",
    "    \n",
    "    weeks = seconds / 60 / 60 / 24 // 7\n",
    "    if weeks:\n",
    "        string += f'{weeks} weeks '\n",
    "    seconds -= weeks * 60 * 60 * 24 * 7\n",
    "    \n",
    "    days = seconds / 60 / 60 // 24\n",
    "    if days:\n",
    "        string += f'{days} days '\n",
    "    seconds -= days * 60 * 60 * 24\n",
    "    \n",
    "    hours = seconds / 60 // 60\n",
    "    if hours:\n",
    "        string += f'{hours} hours '\n",
    "    seconds -= hours * 60 * 60\n",
    "    \n",
    "    minutes = seconds // 60\n",
    "    if minutes:\n",
    "        string += f'{minutes} minutes '\n",
    "    seconds -= minutes * 60\n",
    "        \n",
    "    if seconds:\n",
    "        string += f'{seconds} seconds'\n",
    "        \n",
    "    return string\n",
    "    \n",
    "    \n",
    "seconds_to_string(987987)"
   ]
  },
  {
   "cell_type": "markdown",
   "metadata": {
    "collapsed": true
   },
   "source": [
    "## Where do we go from here?\n",
    "\n",
    "This function works, but one thing we might want to do is to create a type of object that more clearly illustrates the semantics of a time measurement.\n",
    "\n",
    "For starters, it would be great if we could [make illegal states unrepresentable](https://fsharpforfunandprofit.com/posts/designing-with-types-making-illegal-states-unrepresentable/) as much as possible. For example, let's say that we only want units of time like `Weeks, Days, Hours, Minutes, and Seconds`, to be represented as natural numbers. That means no negative numbers or floating point representations of those types.\n",
    "\n",
    "For the sake of argument, let's also say that we want equivalent units of time to be equal to one another. We also want to be able to perform arithmetic with our units in ways that make sense.\n",
    "\n",
    "Lastly, units of time should know how to represent themselves in string form.\n",
    "\n",
    "i.e.\n",
    "\n",
    "```\n",
    "Days(7) == Weeks(1)\n",
    "\n",
    "Minutes(1) + Seconds(20) -> Minutes(1) # whole numbers only, left unit takes precedent\n",
    "\n",
    "Seconds(20) + Minutes(1) -> Seconds(80)\n",
    "\n",
    "str(Seconds(0)) -> '0 Seconds'\n",
    "str(Seconds(1)) -> '1 Second'\n",
    "str(Seconds(101)) -> '101 Seconds'\n",
    "```\n",
    "\n",
    "---"
   ]
  },
  {
   "cell_type": "code",
   "execution_count": 2,
   "metadata": {
    "ExecuteTime": {
     "end_time": "2017-09-23T01:43:17.696342Z",
     "start_time": "2017-09-23T01:43:17.196853Z"
    },
    "collapsed": true
   },
   "outputs": [],
   "source": [
    "from fractions import Fraction\n",
    "\n",
    "class TimeUnit(int):\n",
    "    \"\"\"A class that defines the semantics of a unit of time i.e. seconds, minutes, hours etc.\"\"\"\n",
    "\n",
    "    def __new__(cls, x):\n",
    "        \"\"\"Ensure no negative units are created.\"\"\"\n",
    "        if x < 0:\n",
    "            raise ValueError(f'{cls.__name__} must be greater than zero. x={x}')\n",
    "        return super().__new__(cls, x)\n",
    "\n",
    "    def __eq__(self, other):\n",
    "        if isinstance(other, TimeUnit):\n",
    "            return int(self.to_seconds()) == other.to_seconds()\n",
    "        return super().__eq__(other)\n",
    "    \n",
    "    def __add__(self, other):\n",
    "        if isinstance(other, TimeUnit):\n",
    "            return self.from_seconds(int(self.to_seconds())+other.to_seconds())\n",
    "        return super().__add__(other)\n",
    "    \n",
    "    def __radd__(self, other):\n",
    "        if isinstance(other, TimeUnit):\n",
    "            return self.from_seconds(int(self.to_seconds())+other.to_seconds())\n",
    "        return super().__radd__(other)\n",
    "    \n",
    "    def __sub__(self, other):\n",
    "        if isinstance(other, TimeUnit):\n",
    "            return self.from_seconds(int(self.to_seconds())-other.to_seconds())\n",
    "        return super().__sub__(other)\n",
    "    \n",
    "    def __mul__(self, other):\n",
    "        if isinstance(other, TimeUnit):\n",
    "            return self.from_seconds(int(self.to_seconds())*other.to_seconds())\n",
    "        return super().__mul__(other)\n",
    "    \n",
    "    def __div__(self, other):\n",
    "        if isinstance(other, TimeUnit):\n",
    "            return self.from_seconds(int(self.to_seconds())/other.to_seconds())\n",
    "        return super().__div__(other)\n",
    "    \n",
    "    def __repr__(self):\n",
    "        singular = self == 1\n",
    "        units = self.__class__.__name__[:-1] if singular else self.__class__.__name__\n",
    "        return f'{int(self)} {units}'\n",
    "    \n",
    "    def __str__(self):\n",
    "        return repr(self)\n",
    "\n",
    "    @classmethod\n",
    "    def from_seconds(cls, seconds):\n",
    "        raise NotImplementedError\n",
    "\n",
    "    def to_seconds(self):\n",
    "        raise NotImplementedError\n",
    "        \n",
    "# Create our Seconds, Hours, Days, and Weeks classes\n",
    "# from out TimeUnit base class\n",
    "\n",
    "class Seconds(TimeUnit):\n",
    "    @classmethod\n",
    "    def from_seconds(cls, seconds):\n",
    "        return cls(seconds)\n",
    "\n",
    "    def to_seconds(self):\n",
    "        return self\n",
    "\n",
    "\n",
    "class Minutes(TimeUnit):\n",
    "    @classmethod\n",
    "    def from_seconds(cls, seconds):\n",
    "        return cls(Fraction(seconds, 60))\n",
    "\n",
    "    def to_seconds(self):\n",
    "        return Seconds(self * 60)\n",
    "\n",
    "\n",
    "class Hours(TimeUnit):\n",
    "    @classmethod\n",
    "    def from_seconds(cls, seconds):\n",
    "        return cls(Fraction(seconds, 60 * 60))\n",
    "\n",
    "    def to_seconds(self):\n",
    "        return Seconds(self * 60 * 60)\n",
    "\n",
    "\n",
    "class Days(TimeUnit):\n",
    "    @classmethod\n",
    "    def from_seconds(cls, seconds):\n",
    "        return cls(Fraction(seconds, 60 * 60 * 24))\n",
    "\n",
    "    def to_seconds(self):\n",
    "        return Seconds(self * 60 * 60 * 24)\n",
    "\n",
    "\n",
    "class Weeks(TimeUnit):\n",
    "    @classmethod\n",
    "    def from_seconds(cls, seconds):\n",
    "        return cls(Fraction(seconds, 60 * 60 * 24 * 7))\n",
    "\n",
    "    def to_seconds(self):\n",
    "        return Seconds(self * 60 * 60 * 24 * 7)\n"
   ]
  },
  {
   "cell_type": "code",
   "execution_count": 3,
   "metadata": {
    "ExecuteTime": {
     "end_time": "2017-09-23T01:43:17.755260Z",
     "start_time": "2017-09-23T01:43:17.699779Z"
    }
   },
   "outputs": [
    {
     "name": "stdout",
     "output_type": "stream",
     "text": [
      "equality tests passed\n",
      "conversions passed\n"
     ]
    }
   ],
   "source": [
    "# poor man's tests\n",
    "# in the real world, we should test all the operations\n",
    "# ideally using something like hypothesis, but this hopefully\n",
    "# serves well enough to demonstrate that our units of measure\n",
    "# now work well with one-another\n",
    "\n",
    "def test_equality():\n",
    "    assert Seconds(60) == Minutes(1)\n",
    "    assert Minutes(60) == Hours(1)\n",
    "    assert Hours(24) == Days(1)\n",
    "    assert Days(7) == Weeks(1)\n",
    "    print('equality tests passed')\n",
    "    \n",
    "def test_conversions():\n",
    "    assert Seconds(1) + Minutes(1) == 61\n",
    "    assert Minutes(1) + Seconds(1) == 1\n",
    "    assert Minutes(1) + Hours(1) == 61\n",
    "    assert Hours(1) + Minutes(1) == 1\n",
    "    assert Hours(1) + Days(1) == 25\n",
    "    assert Days(1) + Hours(1) == 1\n",
    "    assert Days(1) + Weeks(1) == 8\n",
    "    assert Weeks(1) + Days(1) == 1\n",
    "    print('conversions passed')\n",
    "    \n",
    "test_equality()\n",
    "test_conversions()"
   ]
  },
  {
   "cell_type": "markdown",
   "metadata": {},
   "source": [
    "## Why all the new code?\n",
    "\n",
    "For starters, we know that any instances of our units of time will be positive whole numbers. Additionally, we can also compare and convert our units of measurement to one another pretty easily now that we've defined the respective *dunder* methods\n",
    "\n",
    "So that's pretty cool. We can even continue to use our old function with our new types so long as we make sure the argument is in *seconds*."
   ]
  },
  {
   "cell_type": "code",
   "execution_count": 4,
   "metadata": {
    "ExecuteTime": {
     "end_time": "2017-09-23T01:43:17.775137Z",
     "start_time": "2017-09-23T01:43:17.762256Z"
    }
   },
   "outputs": [
    {
     "data": {
      "text/plain": [
       "'1.0 weeks 3.0 hours 1.0 minutes 18.0 seconds'"
      ]
     },
     "execution_count": 4,
     "metadata": {},
     "output_type": "execute_result"
    }
   ],
   "source": [
    "seconds_to_string(\n",
    "    Weeks(1).to_seconds() + \\\n",
    "    Hours(3).to_seconds() + \\\n",
    "    Seconds(78)\n",
    ")"
   ]
  },
  {
   "cell_type": "markdown",
   "metadata": {},
   "source": [
    "### [Comprehensions](http://python-3-patterns-idioms-test.readthedocs.io/en/latest/Comprehensions.html)\n",
    "\n",
    "Before we move on, we're going to see a few examples of comprehensions.\n",
    "\n",
    "For the uninitiated, comprehensions follow the following format,\n",
    "\n",
    "[**statement** for **variable** in **iterable** if **optional predicate**]\n",
    "\n",
    "in addition, the `.join` method of a string takes an iterable of strings as an argument and returns a string that joins the elements of the iterable together."
   ]
  },
  {
   "cell_type": "code",
   "execution_count": 5,
   "metadata": {
    "ExecuteTime": {
     "end_time": "2017-09-23T01:43:17.801586Z",
     "start_time": "2017-09-23T01:43:17.778372Z"
    }
   },
   "outputs": [
    {
     "name": "stdout",
     "output_type": "stream",
     "text": [
      "0, 2, 4, 6, 8\n",
      "\n",
      "all the things: pizza++None++beer++0++42++{}++netflix\n",
      "\n",
      "only that which is True: pizza++beer++42++netflix\n"
     ]
    }
   ],
   "source": [
    "# for a comma-separated list of even numbers 0-through-10\n",
    "print(', '.join(str(n) for n in range(10) if n % 2 == 0), end='\\n\\n')\n",
    "\n",
    "random_things = ['pizza', None, \"beer\", 0, 42, {}, 'netflix']\n",
    "things_string = '++'.join(str(thing) for thing in random_things)\n",
    "\n",
    "print('all the things:', things_string , end='\\n\\n')\n",
    "\n",
    "# notice the predicate can be a variable itself, it will be\n",
    "# evaluated on its \"truthiness\"\n",
    "some_things_string = '++'.join(str(thing) for thing in random_things if thing)\n",
    "\n",
    "print('only that which is True:', some_things_string)"
   ]
  },
  {
   "cell_type": "markdown",
   "metadata": {},
   "source": [
    "Anyway, we can still do better.\n",
    "\n",
    "Let's start by re-writing our old function to take any instance **TimeUnit**. Since **TimeUnit** instances can't be negative, we don't have to test for that in our function. In addition, every **TimeUnit** has a `from_seconds` method and knows how to perform arithmetic correctly with other members of the same type -- saving us some code."
   ]
  },
  {
   "cell_type": "code",
   "execution_count": 6,
   "metadata": {
    "ExecuteTime": {
     "end_time": "2017-09-23T01:43:17.885425Z",
     "start_time": "2017-09-23T01:43:17.804928Z"
    },
    "collapsed": true
   },
   "outputs": [],
   "source": [
    "def time_unit_to_string(unit):\n",
    "    \n",
    "    seconds = unit.to_seconds()\n",
    "    \n",
    "    if seconds == 0:\n",
    "        return str(seconds)\n",
    "    \n",
    "    # a stack where we'll store all our units\n",
    "    # greater than one\n",
    "    \n",
    "    units = []\n",
    "    \n",
    "    weeks = Weeks.from_seconds(seconds)\n",
    "    if weeks:\n",
    "        units.append(str(weeks))\n",
    "    seconds -= weeks\n",
    "    \n",
    "    days = Days.from_seconds(seconds)\n",
    "    if days:\n",
    "        units.append(str(days))\n",
    "    seconds -= days\n",
    "    \n",
    "    hours = Hours.from_seconds(seconds)\n",
    "    if hours:\n",
    "        units.append(str(hours))\n",
    "    seconds -= hours\n",
    "    \n",
    "    minutes = Minutes.from_seconds(seconds)\n",
    "    if minutes:\n",
    "        units.append(str(minutes))\n",
    "    seconds -= minutes\n",
    "        \n",
    "    if seconds:\n",
    "        units.append(str(seconds))\n",
    "        \n",
    "    return ' '.join(units)"
   ]
  },
  {
   "cell_type": "markdown",
   "metadata": {},
   "source": [
    "## You promised recursion"
   ]
  },
  {
   "cell_type": "markdown",
   "metadata": {},
   "source": [
    "\"But, Stephan\", you interject. \n",
    "\n",
    "\"Can't we do better than to have a stack in our `time_unit_to_string` function where we append the values we want to return? Also, constantly changing the value of variables like `seconds` in the function makes me sad. I like it when my program is correct, but I LOVE it when it's pure, idiomatic, functional, well-tested, and well-documented.\"\n",
    "\n",
    "I wipe a tear from my eye, knowing the harsh vicissitudes of life may unfairly rob you of much of your innocent idealism, but recursion isn't going to explain itself itself itself itself..."
   ]
  },
  {
   "cell_type": "markdown",
   "metadata": {},
   "source": [
    "### Recursion\n",
    "\n",
    "\n",
    "A **recursive** function, is simply a function that calls itself. A recursive function must have at least one **base case**, which is the point at which the function ceases to return from itself and actually spits something out."
   ]
  },
  {
   "cell_type": "code",
   "execution_count": 7,
   "metadata": {
    "ExecuteTime": {
     "end_time": "2017-09-23T01:43:17.902305Z",
     "start_time": "2017-09-23T01:43:17.888406Z"
    }
   },
   "outputs": [
    {
     "name": "stdout",
     "output_type": "stream",
     "text": [
      "called diminish(5)\n",
      "called diminish(4)\n",
      "called diminish(3)\n",
      "called diminish(2)\n",
      "called diminish(1)\n",
      "this is the base case\n"
     ]
    }
   ],
   "source": [
    "# This contrived example of a recursive function that doesn't do much\n",
    "\n",
    "def diminish(n):\n",
    "    if n <= 0:\n",
    "        print('this is the base case')\n",
    "        return n\n",
    "    print(f'called diminish({n})')\n",
    "    return diminish(n-1)\n",
    "\n",
    "x = diminish(5)\n",
    "assert x == 0"
   ]
  },
  {
   "cell_type": "markdown",
   "metadata": {},
   "source": [
    "### Closures\n",
    "\n",
    "A **closure** is simply a fancy name for a function defined within another function. The inner function will have access to the higher function's [namespace](https://stackoverflow.com/questions/3913217/what-are-python-namespaces-all-about).\n",
    "\n",
    "Let's create a function that allows us to \"count\" by certain numbers as an example."
   ]
  },
  {
   "cell_type": "code",
   "execution_count": 8,
   "metadata": {
    "ExecuteTime": {
     "end_time": "2017-09-23T01:43:17.928336Z",
     "start_time": "2017-09-23T01:43:17.905061Z"
    }
   },
   "outputs": [
    {
     "name": "stdout",
     "output_type": "stream",
     "text": [
      "1 2 3\n",
      "15 20 25\n"
     ]
    }
   ],
   "source": [
    "# we define from_ as a nonlocal variable in our closure \n",
    "# since we want to change its value from that scope,\n",
    "# not just \"read\" it\n",
    "\n",
    "def counts(from_=0, by=1):\n",
    "    def closure():\n",
    "        nonlocal from_\n",
    "        result = from_+by\n",
    "        from_ += by\n",
    "        return result\n",
    "    return closure\n",
    "\n",
    "counter = counts()\n",
    "print(counter(), counter(), counter())\n",
    "\n",
    "count_from_10_by_5 = counts(from_=10, by=5)\n",
    "print(' '.join(str(count_from_10_by_5()) for _ in range(3)))"
   ]
  },
  {
   "cell_type": "markdown",
   "metadata": {
    "ExecuteTime": {
     "end_time": "2017-09-21T07:20:31.791053Z",
     "start_time": "2017-09-21T07:20:31.780934Z"
    }
   },
   "source": [
    "### Caveat\n",
    "\n",
    "This following example is just one way you *could* use recursion to avoid loops and changing variables. I am **definitely** not trying to argue this is the \"best\" way to solve this particular problem, as we'll see. Also, I just want to make it clear that as a mere mortal that doesn't intuitively perceive the universe in its natural resplendent recursive beauty, this is probably (almost certainly) not the best example of a recursive function that solves our problem. \n",
    "\n",
    "With that out of the way..."
   ]
  },
  {
   "cell_type": "code",
   "execution_count": 9,
   "metadata": {
    "ExecuteTime": {
     "end_time": "2017-09-23T01:43:18.184893Z",
     "start_time": "2017-09-23T01:43:17.931004Z"
    }
   },
   "outputs": [
    {
     "name": "stdout",
     "output_type": "stream",
     "text": [
      "stringification tests passed for seconds_to_string\n"
     ]
    }
   ],
   "source": [
    "def seconds_to_string(seconds):\n",
    "    # coerce integers into our Seconds class\n",
    "    seconds = Seconds(seconds)\n",
    "\n",
    "    def inner(seconds, string, unit_class):\n",
    "        \n",
    "        # These are the base cases of the recursive function\n",
    "        # where our function will eventually terminate and return\n",
    "        if seconds == 0 and string:\n",
    "            # in this case, the input was larger than sixty, so some unit of time\n",
    "            # besides seconds was computed, but there are no seconds left over\n",
    "            \n",
    "            # since we append a space to each string we return in a recursive call\n",
    "            # where some unit greater than 1 was computed, we need to strip the output\n",
    "            return string.strip()\n",
    "        elif seconds < 60:\n",
    "            # in this case, we may or may not have computed units of time other than\n",
    "            # seconds, but since we append the seconds string at the end -- after any\n",
    "            # spaces -- we don't need to strip the output of whitespace\n",
    "            return string + str(seconds)\n",
    "        \n",
    "        time_unit = unit_class.from_seconds(seconds)\n",
    "        \n",
    "        # if the unit of time is not zero i.e. `Weeks.from_seconds(800) == 0`\n",
    "        # then we append the string for that unit of time to the last string\n",
    "        # that was input to the function and add it as a parameter to the \n",
    "        # next function call\n",
    "        s = str(time_unit) + ' ' if time_unit else ''\n",
    "        \n",
    "        if time_unit.__class__ is Weeks:\n",
    "            return inner(seconds-time_unit, string+s, Days)\n",
    "        elif time_unit.__class__ is Days:\n",
    "            return inner(seconds-time_unit, string+s, Hours)\n",
    "        elif time_unit.__class__ is Hours:\n",
    "            return inner(seconds-time_unit, string+s, Minutes)\n",
    "        elif time_unit.__class__ is Minutes:\n",
    "            return inner(seconds-time_unit, string+s, Seconds)\n",
    "            \n",
    "    return inner(seconds, '', Weeks)\n",
    "\n",
    "\n",
    "\n",
    "def test_string_func(func):\n",
    "    input_ = 8989\n",
    "    output = func(input_)\n",
    "    assert output == '2 Hours 29 Minutes 49 Seconds', f'{func.__name__}({input_}) -> {output}'\n",
    "    \n",
    "    input_ = 0\n",
    "    output = func(input_)\n",
    "    assert output == '0 Seconds', f'{func.__name__}({input_}) -> {output}'\n",
    "    \n",
    "    input_ = 60\n",
    "    output = func(input_)\n",
    "    assert output == '1 Minute', f'{func.__name__}({input_}) -> {output}'\n",
    "    \n",
    "    input_ = 1\n",
    "    output = func(input_)\n",
    "    assert output == '1 Second', f'{func.__name__}({input_}) -> {output}'\n",
    "    \n",
    "    input_ = Seconds(61) + Hours(1) + Weeks(1)\n",
    "    output = func(input_)\n",
    "    assert output == '1 Week 1 Hour 1 Minute 1 Second', f'{func.__name__}({input_}) -> {output}'\n",
    "    \n",
    "    print(f'stringification tests passed for {func.__name__}')\n",
    "    \n",
    "    \n",
    "test_string_func(seconds_to_string)"
   ]
  },
  {
   "cell_type": "markdown",
   "metadata": {},
   "source": [
    "### How can we make this less horrible?\n",
    "\n",
    "Well, for one, we could use iteration to avoid dispatching on the `time_class` argument in the recursive function"
   ]
  },
  {
   "cell_type": "code",
   "execution_count": 10,
   "metadata": {
    "ExecuteTime": {
     "end_time": "2017-09-23T01:43:18.235855Z",
     "start_time": "2017-09-23T01:43:18.188020Z"
    }
   },
   "outputs": [
    {
     "data": {
      "text/plain": [
       "'20 Hours 13 Minutes 3 Seconds'"
      ]
     },
     "execution_count": 10,
     "metadata": {},
     "output_type": "execute_result"
    }
   ],
   "source": [
    "def seconds_to_string_with_for_loop(seconds):\n",
    "    \n",
    "    seconds = Seconds(seconds)\n",
    "\n",
    "    def inner(seconds, string):\n",
    "        \n",
    "        if seconds == 0 and string:\n",
    "            return string.strip()\n",
    "        \n",
    "        elif seconds < 60:\n",
    "            return string + str(seconds)\n",
    "        \n",
    "        for unit in (Weeks, Days, Hours, Minutes, Seconds):\n",
    "            time_unit = unit.from_seconds(seconds)\n",
    "            if time_unit:\n",
    "                return inner(seconds-time_unit, string + str(time_unit) + ' ')\n",
    "\n",
    "    return inner(seconds, '')\n",
    "\n",
    "seconds_to_string_with_for_loop(72783)"
   ]
  },
  {
   "cell_type": "markdown",
   "metadata": {},
   "source": [
    "### Closures, again\n",
    "\n",
    "Let's see another example with a factory function that uses a closure. Again, I don't think this is actually a good solution to this problem at all, but I think it's useful as an example in how one might think about using closures."
   ]
  },
  {
   "cell_type": "code",
   "execution_count": 11,
   "metadata": {
    "ExecuteTime": {
     "end_time": "2017-09-23T01:43:18.282730Z",
     "start_time": "2017-09-23T01:43:18.238943Z"
    }
   },
   "outputs": [
    {
     "data": {
      "text/plain": [
       "'45 Weeks 1 Day 17 Hours 11 Minutes 23 Seconds'"
      ]
     },
     "execution_count": 11,
     "metadata": {},
     "output_type": "execute_result"
    }
   ],
   "source": [
    "def unit_factory(seconds):\n",
    "    \n",
    "    seconds = Seconds(seconds)\n",
    "\n",
    "    def get_time_unit_instance(unit):\n",
    "        nonlocal seconds\n",
    "        time_unit = unit.from_seconds(seconds)\n",
    "        seconds -= time_unit\n",
    "        return time_unit\n",
    "\n",
    "    return get_time_unit_instance\n",
    "\n",
    "\n",
    "\n",
    "def seconds_to_string_with_closure_factory(seconds):\n",
    "    if seconds < 60:\n",
    "        return str(Seconds(seconds))\n",
    "    \n",
    "    factory = unit_factory(seconds)\n",
    "    time_units = (factory(u) for u in (Weeks, Days, Hours, Minutes, Seconds))\n",
    "    \n",
    "    return ' '.join(str(unit) for unit in time_units if unit)\n",
    "\n",
    "\n",
    "seconds_to_string_with_closure_factory(27364283)"
   ]
  },
  {
   "cell_type": "markdown",
   "metadata": {},
   "source": [
    "### Sweet, Sweet [Generators](https://realpython.com/blog/python/introduction-to-python-generators/)\n",
    "\n",
    "Lastly, a generator is a callable object in Python (normally just a function) that abides by the iterator protocol (you can loop over it) that *yields* values as opposed to only *returning* them.\n",
    "\n",
    "In this example, you can clearly understand what's happening by reading the code, which I would argue is what Python is all about. \n",
    "\n",
    "Rather than **imperatively** decrementing seconds each time we calculate a unit of time, or using a **recursive** function or **closure** to do the same thing, we rely on the semantics of the **generator** to do it for us much more clearly by decrementing the `sec` variable within the generator function's *own* scope **after** we yield the value we want! How cool is that?! \n",
    "\n",
    "This works because the Python interpreter basically suspends execution and starts back up immediately after the yield statement of a generator function, so we know that `secs` will be decremented before the next iteration of the loop, every time.\n",
    "\n",
    "I think this really makes more intuitive sense than any of the previous examples, but at least we may have a couple more tools in our mental toolbox now that we've seen a couple different solutions."
   ]
  },
  {
   "cell_type": "code",
   "execution_count": 12,
   "metadata": {
    "ExecuteTime": {
     "end_time": "2017-09-23T01:43:18.322826Z",
     "start_time": "2017-09-23T01:43:18.285187Z"
    }
   },
   "outputs": [
    {
     "data": {
      "text/plain": [
       "'3 Weeks 6 Days 2 Hours 40 Minutes 55 Seconds'"
      ]
     },
     "execution_count": 12,
     "metadata": {},
     "output_type": "execute_result"
    }
   ],
   "source": [
    "def seconds_to_string_with_generator_func(seconds):\n",
    "    \n",
    "    seconds = Seconds(seconds)\n",
    "    \n",
    "    if seconds < 60:\n",
    "        return str(seconds)\n",
    "    \n",
    "    def gen_unit_strings(secs):\n",
    "        units = (Weeks, Days, Hours, Minutes, Seconds)\n",
    "        for unit in (u.from_seconds(secs) for u in units):\n",
    "            if unit: yield str(unit)\n",
    "            secs -= unit\n",
    "    \n",
    "    return ' '.join(gen_unit_strings(seconds))\n",
    "\n",
    "\n",
    "seconds_to_string_with_generator_func(2342455)"
   ]
  }
 ],
 "metadata": {
  "front-matter": {
   "date": "2017-09-20",
   "slug": "recursion-what-is-it-good-for",
   "subtitle": "Absolutely, something",
   "title": "Recursion, what is it good for?"
  },
  "hide_input": false,
  "kernelspec": {
   "display_name": "Python 3",
   "language": "python",
   "name": "python3"
  },
  "language_info": {
   "codemirror_mode": {
    "name": "ipython",
    "version": 3
   },
   "file_extension": ".py",
   "mimetype": "text/x-python",
   "name": "python",
   "nbconvert_exporter": "python",
   "pygments_lexer": "ipython3",
   "version": "3.6.1"
  }
 },
 "nbformat": 4,
 "nbformat_minor": 2
}
