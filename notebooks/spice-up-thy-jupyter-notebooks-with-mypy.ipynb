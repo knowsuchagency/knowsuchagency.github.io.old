{
 "cells": [
  {
   "cell_type": "markdown",
   "metadata": {},
   "source": [
    "# Spice Up Thy Jupyter Notebooks With mypy"
   ]
  },
  {
   "cell_type": "markdown",
   "metadata": {
    "ExecuteTime": {
     "end_time": "2017-03-19T23:13:18.247309Z",
     "start_time": "2017-03-19T16:13:18.242446-07:00"
    }
   },
   "source": [
    "I use [Jupyter](http://jupyter.org/) notebooks all the time. I use them to author the content for articles like the one you're reading. I use them to explore data. And I use them whenever I want to prototype standalone modules or learn new programming concepts, since notebooks allow us to quickly iterate on new ideas and provide powerful ways introspect, profile, and debug code - and more.\n",
    "\n",
    "I've also recently become interested in Python's new typing module and mypy, and I wanted to be able to use them seamlessly in the context of my Jupyter notebooks.\n",
    "\n",
    "Before we continue, I should mention that Jupyter is an evolution of the original IPython project. I bring this up because I'm going to reference the documentation for IPython, which can be thought of as the the code that enables Python to work with Jupyter. Think of Jupyter as the tooling that allows for us to do all the fancy code editing and visualization browser, and IPython as the compatibility layer between Jupyter and Python. This is a bit simplistic, but hopefully avoids confusion for anyone who isn't intimately familiar with both projects and the genesis of the Jupyter project.\n",
    "\n",
    "Jupyter has a concept of cell \"magics\" which allow us to perform helpful functions in the context of a Jupyter shell. For example, when using IPython, the `%pastebin` magic allows us to easily upload bits of code to Github's Gist pastebin, `%pdoc [object]` prints the docstring for a particular object, and `%%latex` renders a block of text as latex.\n",
    "\n",
    "Magics that start with  '%' apply only to the line that it is written on, while\n",
    "magics that start with '%%' apply to a block of code proceeding that line.\n",
    "\n",
    "Jupyter allows us to write our own custom magics, apart from the built-in magics provided. Detailed documentation on how to do that can be found [here](http://ipython.readthedocs.io/en/stable/config/custommagics.html).\n",
    "\n",
    "Since the custom magics you use depend on how you have IPython configured and what profile you're using, I'm providing the following code in the form of a gist, since distributing it as a package would be finicky as the package would need to attempt to figure out your IPython configuration, a task which seems best left to you, the human.\n",
    "\n",
    "I'm going to assume that you have Jupyter installed and that you have at least a default profile created. If not `pip install -U jupyter` will install Jupyter and `ipython profile create` will create a default profile for you if you don't yet have one. This will allow you to use custom magics and configure the way IPython works in various other ways.\n",
    "\n",
    "For example, my IPython configuration for my default profile, 'ipython_config.py' has the following lines\n",
    "\n",
    "    c.TerminalInteractiveShell.ast_node_interactivity = 'all'\n",
    "    c.InteractiveShell.ast_node_interactivity = 'all'\n",
    "    \n",
    "which tells IPython to print the the repr for any object which has it's own line. \n",
    "\n",
    "For example:"
   ]
  },
  {
   "cell_type": "code",
   "execution_count": 1,
   "metadata": {
    "ExecuteTime": {
     "end_time": "2017-07-09T01:32:59.351284Z",
     "start_time": "2017-07-09T01:32:59.290931Z"
    }
   },
   "outputs": [
    {
     "data": {
      "text/plain": [
       "'bar'"
      ]
     },
     "execution_count": 1,
     "metadata": {},
     "output_type": "execute_result"
    },
    {
     "data": {
      "text/plain": [
       "'baz'"
      ]
     },
     "execution_count": 1,
     "metadata": {},
     "output_type": "execute_result"
    }
   ],
   "source": [
    "foo = 'bar'\n",
    "bar = 'baz'\n",
    "\n",
    "foo\n",
    "\n",
    "bar # normally, only this object is printed"
   ]
  },
  {
   "cell_type": "markdown",
   "metadata": {},
   "source": [
    "The configuration for your current IPython profile can be found using `ipython locate profile`"
   ]
  },
  {
   "cell_type": "markdown",
   "metadata": {},
   "source": [
    "I wanted my magic to do 4 things, primarily.\n",
    "\n",
    "1. Run the block of code through mypy and print its output\n",
    "2. Allow me to alter mypy's behavior, as with the mypy cli\n",
    "2. Not conflict with the normal behavior of the block of code\n",
    "3. Run the block of code in the context of my current profile\n",
    "\n",
    "Though the code it took to do this is really straightforward, it took some digging around in the Jupyter and IPython docs to get it to work as I wanted. Hopefully you find it useful and elucidating.\n",
    "\n",
    "Without further ado, {{<gist knowsuchagency f7b2203dd613756a45f816d6809f01a6 >}}"
   ]
  },
  {
   "cell_type": "code",
   "execution_count": 2,
   "metadata": {
    "ExecuteTime": {
     "end_time": "2017-07-09T01:33:05.263371Z",
     "start_time": "2017-07-09T01:32:59.354099Z"
    }
   },
   "outputs": [
    {
     "name": "stdout",
     "output_type": "stream",
     "text": [
      "<string>:8: error: Incompatible types in assignment (expression has type \"str\", variable has type \"int\")\n",
      "\n"
     ]
    },
    {
     "data": {
      "text/latex": [
       "$$\\sqrt{e^{3}}$$"
      ],
      "text/plain": [
       "   ____\n",
       "  ╱  3 \n",
       "╲╱  e  "
      ]
     },
     "execution_count": 2,
     "metadata": {},
     "output_type": "execute_result"
    },
    {
     "data": {
      "text/plain": [
       "'Notice the previous line was also printed out'"
      ]
     },
     "execution_count": 2,
     "metadata": {},
     "output_type": "execute_result"
    }
   ],
   "source": [
    "%%typecheck --ignore-missing-imports\n",
    "\n",
    "from sympy import sympify, init_printing\n",
    "init_printing()\n",
    "\n",
    "integer: int\n",
    "    \n",
    "integer = \"mypy won't like this\"\n",
    "\n",
    "sympify('(e**3)**(1/2)')\n",
    "\n",
    "\"Notice the previous line was also printed out\""
   ]
  },
  {
   "cell_type": "code",
   "execution_count": null,
   "metadata": {
    "collapsed": true
   },
   "outputs": [],
   "source": []
  }
 ],
 "metadata": {
  "front-matter": {
   "date": "2017-03-19",
   "subtitle": "Add type-checking to Jupyter Notebook cells",
   "title": "Spice Up Thy Jupyter Notebooks with mypy"
  },
  "hide_input": false,
  "kernelspec": {
   "display_name": "Python 3",
   "language": "python",
   "name": "python3"
  },
  "language_info": {
   "codemirror_mode": {
    "name": "ipython",
    "version": 3
   },
   "file_extension": ".py",
   "mimetype": "text/x-python",
   "name": "python",
   "nbconvert_exporter": "python",
   "pygments_lexer": "ipython3",
   "version": "3.6.1"
  }
 },
 "nbformat": 4,
 "nbformat_minor": 1
}
