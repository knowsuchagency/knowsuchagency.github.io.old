{
 "cells": [
  {
   "cell_type": "markdown",
   "metadata": {},
   "source": [
    "I once had a coworker tasked with creating a web-based dashboard. Unfortunately, the data he needed to log and visualize came from this binary application that didn't have any sort of documented developer api -- it just printed everything to stdout -- that he didn't have the source code for either. \n",
    "\n",
    "It was basically a black box that he had to write a Python wrapper around, using the [subprocess](https://docs.python.org/3/library/subprocess.html) module.\n",
    "\n",
    "His wrapper basically worked as such:\n",
    "\n",
    "1. Run the binary in a subprocess\n",
    "2. Write an infinite loop that with each iteration attempts to... \n",
    "    - capture each new line as it's printed from the subprocess\n",
    "    - marshal the line into some form of structured data i.e. dictionary\n",
    "    - log the information in the data structure"
   ]
  },
  {
   "cell_type": "markdown",
   "metadata": {},
   "source": [
    "## A Synchronous Example"
   ]
  },
  {
   "cell_type": "code",
   "execution_count": 1,
   "metadata": {
    "ExecuteTime": {
     "end_time": "2017-09-25T23:16:26.722484Z",
     "start_time": "2017-09-25T23:16:21.545067Z"
    }
   },
   "outputs": [
    {
     "name": "stderr",
     "output_type": "stream",
     "text": [
      "INFO:root:{'time': 'Mon Sep 25 16:16:21 2017 690000 milliseconds', 'string': 'hello, world'}\n",
      "INFO:root:{'time': 'Mon Sep 25 16:16:21 2017 690084 milliseconds', 'string': 'hello, world'}\n",
      "INFO:root:{'time': 'Mon Sep 25 16:16:21 2017 690111 milliseconds', 'string': 'hello, world'}\n",
      "INFO:root:{'time': 'Mon Sep 25 16:16:21 2017 690131 milliseconds', 'string': 'hello, world'}\n",
      "INFO:root:{'time': 'Mon Sep 25 16:16:21 2017 690149 milliseconds', 'string': 'hello, world'}\n"
     ]
    }
   ],
   "source": [
    "from subprocess import Popen, PIPE\n",
    "import logging; logging.getLogger().setLevel(logging.INFO)\n",
    "import sys\n",
    "import time\n",
    "import json\n",
    "\n",
    "\n",
    "PROG = \"\"\"\n",
    "import json\n",
    "import time\n",
    "from datetime import datetime\n",
    "\n",
    "while True:\n",
    "    data = {\n",
    "       'time': datetime.now().strftime('%c %f milliseconds'),\n",
    "       'string': 'hello, world',\n",
    "    }\n",
    "    print(json.dumps(data))\n",
    "\"\"\"\n",
    "\n",
    "with Popen([sys.executable, '-u', '-c', PROG], stdout=PIPE) as proc:\n",
    "    last_line = ''\n",
    "    start_time, delta = time.time(), 0\n",
    "    \n",
    "    while delta < 5: # only loop for 5 seconds\n",
    "        \n",
    "        line = proc.stdout.readline().decode()\n",
    "        \n",
    "        # pretend marshalling the data takes 1 second\n",
    "        data = json.loads(line); time.sleep(1)\n",
    "        \n",
    "        if line != last_line:\n",
    "            logging.info(data)\n",
    "        \n",
    "        last_line = line\n",
    "        delta = time.time() - start_time\n",
    "    "
   ]
  },
  {
   "cell_type": "markdown",
   "metadata": {},
   "source": [
    "# The problem"
   ]
  },
  {
   "cell_type": "markdown",
   "metadata": {},
   "source": [
    "The problem my coworker had is that in the time he marshaled one line of output of the program and logged the information, several more lines had already been printed by the subprocess. His wrapper simply couldn't keep up with the subprocess' output.\n",
    "\n",
    "Notice in the example above, that although many more lines have obviously been printed from the program, we only capture the first few since our subprocess \"reads\" new lines more slowly than they're printed."
   ]
  },
  {
   "cell_type": "markdown",
   "metadata": {},
   "source": [
    "# The solution-  asyncio\n",
    "\n",
    "Instead of writing our own infinite loop, what if we had a loop that would allow us to run a subprocess and intelligently poll it to determine when a new line was ready to be read, yielding to the main thread to do other work if not?\n",
    "\n",
    "What if that same event loop allowed us to delegate the process of marshaling the json output to a ProcessPoolExecutor?\n",
    "\n",
    "What if this event loop was written into the Python standard library? Well..."
   ]
  },
  {
   "cell_type": "markdown",
   "metadata": {
    "ExecuteTime": {
     "end_time": "2017-09-25T22:09:13.327429Z",
     "start_time": "2017-09-25T22:09:13.173391Z"
    }
   },
   "source": [
    "### printer.py \n",
    "This program simply prints random stuff to stdout on an infinite loop\n",
    "\n",
    "```python\n",
    "# printer.py \n",
    "#\n",
    "# print to stdout in infinite loop\n",
    "\n",
    "from datetime import datetime\n",
    "from pathlib import Path\n",
    "from time import sleep\n",
    "from typing import List\n",
    "import random\n",
    "import json\n",
    "import os\n",
    "\n",
    "\n",
    "def get_words_from_os_dict() -> List[str]:\n",
    "    p1 = Path('/usr/share/dict/words')  # mac os\n",
    "    p2 = Path('/usr/dict/words')  # debian/ubuntu\n",
    "    words: List[str] = []\n",
    "    if p1.exists:\n",
    "        words = p1.read_text().splitlines()\n",
    "    elif p2.exists:\n",
    "        words = p2.read_text().splitlines()\n",
    "    return words\n",
    "\n",
    "\n",
    "def current_time() -> str:\n",
    "    return datetime.now().strftime(\"%c\")\n",
    "\n",
    "\n",
    "def printer(words: List[str] = get_words_from_os_dict()) -> str:\n",
    "    random_words = ':'.join(random.choices(words, k=random.randrange(2, 5))) if words else 'no OS words file found'\n",
    "    return json.dumps({\n",
    "        'current_time': current_time(),\n",
    "        'words': random_words\n",
    "    })\n",
    "\n",
    "\n",
    "while True:\n",
    "    seconds = random.randrange(5)\n",
    "    print(f'{__file__} in process {os.getpid()} waiting {seconds} seconds to print json string')\n",
    "    sleep(seconds)\n",
    "    print(printer())\n",
    "```"
   ]
  },
  {
   "cell_type": "markdown",
   "metadata": {},
   "source": [
    "# An Asynchronous Example\n",
    "\n",
    "This program wraps printer.py in a subprocess. It then delegates the marshaling of json to another process using the event loop's [`run_in_executor`](https://docs.python.org/3/library/asyncio-eventloop.html#asyncio.AbstractEventLoop.run_in_executor) method, and prints the results to the screen."
   ]
  },
  {
   "cell_type": "code",
   "execution_count": 1,
   "metadata": {
    "ExecuteTime": {
     "end_time": "2017-09-25T23:25:24.742187Z",
     "start_time": "2017-09-25T23:25:19.297064Z"
    }
   },
   "outputs": [
    {
     "data": {
      "text/plain": [
       "<_GatheringFuture pending>"
      ]
     },
     "execution_count": 1,
     "metadata": {},
     "output_type": "execute_result"
    },
    {
     "name": "stderr",
     "output_type": "stream",
     "text": [
      "ERROR:root:JSONDecodeError for input: printer.py in process 92541 waiting 4 seconds to print json string\n",
      "ERROR:root:JSONDecodeError for input: printer.py in process 92540 waiting 4 seconds to print json string\n",
      "ERROR:root:JSONDecodeError for input: printer.py in process 92542 waiting 4 seconds to print json string\n",
      "ERROR:root:JSONDecodeError for input: printer.py in process 92543 waiting 2 seconds to print json string\n",
      "ERROR:root:JSONDecodeError for input: printer.py in process 92544 waiting 2 seconds to print json string\n",
      "ERROR:root:JSONDecodeError for input: printer.py in process 92544 waiting 3 seconds to print json string\n",
      "ERROR:root:JSONDecodeError for input: printer.py in process 92543 waiting 1 seconds to print json string\n"
     ]
    },
    {
     "name": "stdout",
     "output_type": "stream",
     "text": [
      "<Process 92544> -> {'current_time': 'Mon Sep 25 16:25:21 2017', 'words': 'threadway:redroot:perfidious'}\n",
      "<Process 92543> -> {'current_time': 'Mon Sep 25 16:25:21 2017', 'words': 'Ebionitism:procidence:Olpidium'}\n"
     ]
    },
    {
     "name": "stderr",
     "output_type": "stream",
     "text": [
      "ERROR:root:JSONDecodeError for input: printer.py in process 92543 waiting 1 seconds to print json string\n"
     ]
    },
    {
     "name": "stdout",
     "output_type": "stream",
     "text": [
      "<Process 92543> -> {'current_time': 'Mon Sep 25 16:25:22 2017', 'words': 'octantal:joculator'}\n"
     ]
    },
    {
     "name": "stderr",
     "output_type": "stream",
     "text": [
      "ERROR:root:JSONDecodeError for input: printer.py in process 92540 waiting 0 seconds to print json string\n",
      "ERROR:root:JSONDecodeError for input: printer.py in process 92540 waiting 4 seconds to print json string\n",
      "ERROR:root:JSONDecodeError for input: printer.py in process 92541 waiting 2 seconds to print json string\n",
      "ERROR:root:JSONDecodeError for input: printer.py in process 92542 waiting 3 seconds to print json string\n",
      "ERROR:root:JSONDecodeError for input: printer.py in process 92543 waiting 3 seconds to print json string\n"
     ]
    },
    {
     "name": "stdout",
     "output_type": "stream",
     "text": [
      "<Process 92540> -> {'current_time': 'Mon Sep 25 16:25:23 2017', 'words': 'postclival:milammeter:gnathobase'}\n",
      "<Process 92540> -> {'current_time': 'Mon Sep 25 16:25:23 2017', 'words': 'Deuteronomic:photovoltaic'}\n",
      "<Process 92541> -> {'current_time': 'Mon Sep 25 16:25:23 2017', 'words': 'starwort:combure'}\n",
      "<Process 92542> -> {'current_time': 'Mon Sep 25 16:25:23 2017', 'words': 'infixion:Ailurus:effectualness'}\n",
      "<Process 92543> -> {'current_time': 'Mon Sep 25 16:25:23 2017', 'words': 'Phoenicopteridae:Platyctenea:palpitatingly'}\n",
      "\n",
      "\n",
      "---loop closed---\n",
      "\n",
      "\n"
     ]
    }
   ],
   "source": [
    "#!/usr/bin/env python3\n",
    "#\n",
    "# Spawns multiple instances of printer.py and attempts to deserialize the output\n",
    "# of each line in another process and print the result to the screen,\n",
    "import typing as T\n",
    "import asyncio.subprocess\n",
    "import logging\n",
    "import sys\n",
    "import json\n",
    "\n",
    "from concurrent.futures import ProcessPoolExecutor, Executor\n",
    "from functools import partial\n",
    "from contextlib import contextmanager\n",
    "\n",
    "\n",
    "@contextmanager\n",
    "def event_loop() -> asyncio.AbstractEventLoop:\n",
    "    loop = asyncio.get_event_loop()\n",
    "    # default asyncio event loop executor is\n",
    "    # ThreadPoolExecutor which is usually fine for IO-bound\n",
    "    # tasks, but bad if you need to do computation\n",
    "    with ProcessPoolExecutor() as executor:\n",
    "        loop.set_default_executor(executor)\n",
    "        yield loop\n",
    "    loop.close()\n",
    "    print('\\n\\n---loop closed---\\n\\n')\n",
    "\n",
    "\n",
    "# any `async def` function is a coroutine\n",
    "async def read_json_from_subprocess(\n",
    "        loop: asyncio.AbstractEventLoop = asyncio.get_event_loop(),\n",
    "        executor: T.Optional[Executor] = None\n",
    ") -> None:\n",
    "    # wait for asyncio to initiate our subprocess\n",
    "    process: asyncio.subprocess.Process = await create_process()\n",
    "\n",
    "    while True:\n",
    "        bytes_ = await process.stdout.readline()\n",
    "        string = bytes_.decode('utf8')\n",
    "        # deserialize_json is a function that\n",
    "        # we'll send off to our executor\n",
    "        deserialize_json = partial(json.loads, string)\n",
    "\n",
    "        try:\n",
    "            # run deserialize_json in the loop's default executor (ProcessPoolExecutor)\n",
    "            # and wait for it to return\n",
    "            output = await loop.run_in_executor(executor, deserialize_json)\n",
    "            print(f'{process} -> {output}')\n",
    "        except json.decoder.JSONDecodeError:\n",
    "            logging.error('JSONDecodeError for input: ' + string.rstrip())\n",
    "\n",
    "\n",
    "def create_process() -> asyncio.subprocess.Process:\n",
    "    return asyncio.create_subprocess_exec(\n",
    "        sys.executable, '-u', 'printer.py',\n",
    "        stdout=asyncio.subprocess.PIPE\n",
    "    )\n",
    "\n",
    "\n",
    "async def run_for(\n",
    "    n: int,\n",
    "    loop: asyncio.AbstractEventLoop = asyncio.get_event_loop()\n",
    ") -> None:\n",
    "    \"\"\"\n",
    "    Return after a set amount of time,\n",
    "    cancelling all other tasks before doing so.\n",
    "    \"\"\"\n",
    "    start = loop.time()\n",
    "\n",
    "    while True:\n",
    "\n",
    "        await asyncio.sleep(0)\n",
    "\n",
    "        if abs(loop.time() - start) > n:\n",
    "            # cancel all other tasks\n",
    "            for task in asyncio.Task.all_tasks(loop):\n",
    "                if task is not asyncio.Task.current_task():\n",
    "                    task.cancel()\n",
    "\n",
    "            return\n",
    "\n",
    "\n",
    "with event_loop() as loop:\n",
    "    coroutines = (read_json_from_subprocess() for _ in range(5))\n",
    "    # create Task from coroutines and schedule\n",
    "    # it for execution on the event loop\n",
    "    asyncio.gather(*coroutines)  # this returns a Task and schedules it implicitly\n",
    "\n",
    "    loop.run_until_complete(run_for(5))"
   ]
  },
  {
   "cell_type": "markdown",
   "metadata": {},
   "source": [
    "## Conclusion\n",
    "\n",
    "In our example, we spawn multiple instances of `printer.py` as subprocesses to get an idea of how the event loop intelligently delegates control to between multiple Tasks when it encounters an `await`.\n",
    "\n",
    "Although asyncio as a framework has a bit of a learning curve, in no small part due to its wonky api, (a **Task** is a **Future** that can be instantiated and scheduled with `ensure_future` or `loop.create_task` anyone?), it has many benefits in that it already has well-defined abstractions on top of common interfaces like subprocesses, file-descriptors, and sockets. That alone -- not having to write non-blocking code that knows how and when to poll those [different interfaces](https://docs.python.org/3/library/asyncio-stream.html) -- is enough to be excited about asyncio, in my opinion.\n",
    "\n"
   ]
  },
  {
   "cell_type": "code",
   "execution_count": null,
   "metadata": {
    "collapsed": true
   },
   "outputs": [],
   "source": []
  }
 ],
 "metadata": {
  "front-matter": {
   "date": "2017-09-25",
   "subtitle": "How I learned to stop worrying and love the event loop",
   "title": "Wrapping Subprocesses in Asyncio"
  },
  "hide_input": false,
  "kernelspec": {
   "display_name": "Python 3",
   "language": "python",
   "name": "python3"
  },
  "language_info": {
   "codemirror_mode": {
    "name": "ipython",
    "version": 3
   },
   "file_extension": ".py",
   "mimetype": "text/x-python",
   "name": "python",
   "nbconvert_exporter": "python",
   "pygments_lexer": "ipython3",
   "version": "3.6.1"
  }
 },
 "nbformat": 4,
 "nbformat_minor": 2
}
