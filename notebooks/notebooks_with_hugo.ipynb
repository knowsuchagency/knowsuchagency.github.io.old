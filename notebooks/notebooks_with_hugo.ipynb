{
 "cells": [
  {
   "cell_type": "markdown",
   "metadata": {},
   "source": [
    "### TL;DR\n",
    "\n",
    "    pip install jupyter fabric3 watchdog\n",
    "    cd your_hugo_project_root\n",
    "    curl https://raw.githubusercontent.com/knowsuchagency/knowsuchagency.github.io/src/fabfile.py > fabfile.py\n",
    "    mkdir notebooks\n",
    "    fab -l\n",
    "\n",
    "----------\n",
    "\n",
    "If you've read my previous posts, you've probably guessed I really, really like [Jupyter notebooks](http://jupyter.org/). I think they're not only a great coding environment - they're also an amazing publishing tool and I wanted to use them as the primary way I write blog posts.\n",
    "\n",
    "I've used a number of static site generators in the past, namely [Pelican](https://blog.getpelican.com/), [Nikola](https://getnikola.com/), and [Hugo](https://gohugo.io/).\n",
    "\n",
    "While each of those tools has their strengths and weaknesses (Nikola has first-class support for Jupyter notebooks, for example), Hugo has been my favorite one to use overall.\n",
    "\n",
    "The problem is that Jupyter notebooks are not yet supported \"[out-of-the-box](https://gohugo.io/content/supported-formats/)\" by Hugo. While that's something I may look into rectifying myself in the future, I wanted a way to reliably convert my notebooks to markdown for hugo today. Up till now I'd been doing it mostly manually, but I now offer a better solution.\n",
    "\n",
    "If you haven't yet used or heard of [Fabric](http://www.fabfile.org/), it is my absolute favorite high-level automation tool. Although their intended use-case seems to be automation of tasks on remote machines over ssh (something that more modern and robust tools like [ansible](https://www.ansible.com/) may be better-suited for), I find it to be a perfect way to automate many tasks on my local machine as opposed to shell scripts, Python modules, or Makefiles. The reasons as to why that's true for me are an article for another day, but suffice to say this is the way that we're going to convert our notebooks to markdown for hugo.\n"
   ]
  },
  {
   "cell_type": "markdown",
   "metadata": {
    "ExecuteTime": {
     "end_time": "2017-07-09T23:04:58.979726Z",
     "start_time": "2017-07-09T23:04:58.974145Z"
    }
   },
   "source": [
    "### How\n",
    "\n",
    "This recipe is going to be more helpful if you're hosting your hugo blog your personal github page as described in [their documentation on the subject](https://help.github.com/articles/user-organization-and-project-pages/) i.e. {yourname}.github.io repo and have an src branch where you work as normal and use the master branch only for the rendered website.\n",
    "\n",
    "The fabfile is still useful even if that isn't the case, but the `publish` command does a lot for you if you're hosting your blog on your personal github page as described.\n",
    "\n",
    "At minimum, this recipe assumes you have a hugo site already generated as described in [their documentation](https://gohugo.io/overview/quickstart/).\n",
    "\n",
    "1. Make sure you're using Python 3 and have jupyter, fabric3, and watchdog installed in your environment. `pip install jupyter fabric3 watchdog`\n",
    "2. Copy the [fabfile](https://github.com/knowsuchagency/knowsuchagency.github.io/blob/src/fabfile.py) I'm using to generate this same page on my github repo to the root of your hugo project\n",
    "3. Create a `notebooks` directory in the root of your project where your jupyter notebooks will be.\n",
    "4. As you create new notebooks, edit the notebook metadata to include the `front-matter` hugo needs to render posts. \n",
    "\n",
    "<img src=\"/img/tut1.png\">\n",
    "<img src=\"/img/tut2.png\">\n",
    "\n",
    "\n",
    "\n",
    "Fabric and your fabfile.py will then allow you to render notebooks, serve the website on your localhost and have re-render dynamically update while you edit your notebooks, and publish to github once you're ready.\n",
    "\n",
    "All you need to do is run the commands from the root of your project i.e.\n",
    "\n",
    "    fab render_notebooks\n",
    "    fab serve\n",
    "    fab publish\n"
   ]
  },
  {
   "cell_type": "code",
   "execution_count": null,
   "metadata": {
    "collapsed": true
   },
   "outputs": [],
   "source": []
  }
 ],
 "metadata": {
  "front-matter": {
   "date": "2017-07-10",
   "subtitle": "Blogging with Jupyter, the easy way",
   "title": "Jupyter notebooks with Hugo"
  },
  "hide_input": false,
  "kernelspec": {
   "display_name": "Python 3",
   "language": "python",
   "name": "python3"
  },
  "language_info": {
   "codemirror_mode": {
    "name": "ipython",
    "version": 3
   },
   "file_extension": ".py",
   "mimetype": "text/x-python",
   "name": "python",
   "nbconvert_exporter": "python",
   "pygments_lexer": "ipython3",
   "version": "3.6.1"
  }
 },
 "nbformat": 4,
 "nbformat_minor": 2
}
